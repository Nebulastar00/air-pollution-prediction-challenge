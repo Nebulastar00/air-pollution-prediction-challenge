{
 "cells": [
  {
   "cell_type": "code",
   "execution_count": 1,
   "metadata": {},
   "outputs": [],
   "source": [
    "import numpy as np\n",
    "import pandas as pd\n",
    "import matplotlib.pyplot as plt"
   ]
  },
  {
   "cell_type": "code",
   "execution_count": 2,
   "metadata": {},
   "outputs": [],
   "source": [
    "df_train = pd.read_csv(\"./Dataset/Train/Train.csv\")\n",
    "df_test = pd.read_csv(\"./Dataset/Test/Test.csv\")\n",
    "df_sample = pd.read_csv(\"./Dataset/Test/Sample_Submission.csv\")"
   ]
  },
  {
   "cell_type": "code",
   "execution_count": 3,
   "metadata": {},
   "outputs": [],
   "source": [
    "data_train = df_train.values"
   ]
  },
  {
   "cell_type": "code",
   "execution_count": 4,
   "metadata": {},
   "outputs": [],
   "source": [
    "X_train = data_train[:,:-1]\n",
    "Y_train = data_train[:,-1]\n",
    "X_test = (df_test.values)[:,:]"
   ]
  },
  {
   "cell_type": "code",
   "execution_count": 5,
   "metadata": {},
   "outputs": [],
   "source": [
    "Y_train = Y_train.reshape(Y_train.shape[0],1)"
   ]
  },
  {
   "cell_type": "code",
   "execution_count": 6,
   "metadata": {},
   "outputs": [
    {
     "data": {
      "text/plain": [
       "(1600, 1)"
      ]
     },
     "execution_count": 6,
     "metadata": {},
     "output_type": "execute_result"
    }
   ],
   "source": [
    "Y_train.shape"
   ]
  },
  {
   "cell_type": "code",
   "execution_count": 7,
   "metadata": {},
   "outputs": [
    {
     "data": {
      "text/plain": [
       "(1600, 5)"
      ]
     },
     "execution_count": 7,
     "metadata": {},
     "output_type": "execute_result"
    }
   ],
   "source": [
    "X_train.shape"
   ]
  },
  {
   "cell_type": "code",
   "execution_count": 8,
   "metadata": {},
   "outputs": [],
   "source": [
    "def hypothesis(x,theta):\n",
    "    return np.dot(x,theta.T)\n",
    "\n",
    "def error(X,Y,theta):\n",
    "    m = Y.shape[0]\n",
    "    err = 0\n",
    "    \n",
    "    for i in range(m):\n",
    "        hx = hypothesis(X[i],theta)\n",
    "        err += (hx-Y[i])**2\n",
    "        \n",
    "    return err/2\n",
    "\n",
    "def gradient(X,Y,theta):\n",
    "    grad = np.zeros((X.shape[1],))\n",
    "    m = Y.shape[0]\n",
    "    \n",
    "    for i in range(m):\n",
    "        hx = hypothesis(X[i],theta)\n",
    "        for j in range(X.shape[1]):\n",
    "            grad[j] += ((Y[i]-hx)*X[i][j])[0]\n",
    "    \n",
    "    return grad*0.5\n",
    "\n",
    "def gradientDescent(X,Y,learning_rate=0.0022):\n",
    "    theta = np.zeros((X.shape[1],))\n",
    "    \n",
    "    e = error(X,Y,theta)\n",
    "    de = e\n",
    "    error_list = [e]\n",
    "    itr = 0\n",
    "    \n",
    "    while(itr<=100):\n",
    "        grad = gradient(X,Y,theta)\n",
    "        for j in range(X.shape[1]):\n",
    "            theta[j] = theta[j] + learning_rate*grad[j]\n",
    "        ne = error(X,Y,theta)\n",
    "        \n",
    "        if(itr%10):\n",
    "            error_list.append(ne)\n",
    "        de = ne - e\n",
    "        e = ne\n",
    "        itr += 1\n",
    "        \n",
    "    return theta,error_list"
   ]
  },
  {
   "cell_type": "code",
   "execution_count": 9,
   "metadata": {
    "scrolled": true
   },
   "outputs": [
    {
     "data": {
      "image/png": "[encoded data removed]",
      "text/plain": [
       "<Figure size 432x288 with 1 Axes>"
      ]
     },
     "metadata": {},
     "output_type": "display_data"
    }
   ],
   "source": [
    "final_theta,error_list = gradientDescent(X_train,Y_train)\n",
    "plt.plot(error_list)\n",
    "plt.show()"
   ]
  },
  {
   "cell_type": "code",
   "execution_count": 10,
   "metadata": {},
   "outputs": [
    {
     "data": {
      "text/plain": [
       "array([ 1.10265936e+02,  1.12555577e+02, -2.61070346e+01, -4.93293850e+01,\n",
       "       -1.01303779e+02, -5.01086402e+01, -8.12050894e+01,  1.91696507e+01,\n",
       "        1.68307250e+02,  1.67817561e+02, -1.10432644e+02, -2.51261333e+01,\n",
       "       -9.03597019e+00,  1.17312710e+02,  3.55754951e+01,  4.08143031e+01,\n",
       "       -1.94785535e+02,  1.75708180e+01,  6.51505819e+00,  1.31106932e+02,\n",
       "        6.03763249e+01, -6.70224592e+01, -1.13319219e+02, -1.31679786e+01,\n",
       "       -6.24438215e+01,  7.74177147e+00,  2.44661073e+01,  1.03635441e+02,\n",
       "        1.84319892e+01, -3.13900230e+01,  1.06631339e+02, -5.00609048e+01,\n",
       "        2.12099853e+02, -1.98237156e+01, -2.33839085e+02,  1.49103913e+02,\n",
       "       -7.30471685e+00,  7.92837652e+00, -3.12999612e+02,  7.28392641e+01,\n",
       "       -8.64026678e+01, -2.11734433e+02, -2.43021937e+02,  1.28974012e+02,\n",
       "       -7.88420555e+01,  9.92098556e+01, -8.48037808e+00,  1.57468857e+01,\n",
       "       -1.02731078e+02, -3.25428675e+01,  6.34207313e+00, -1.79841049e+02,\n",
       "        6.06012136e+01, -1.02219291e+02, -1.11522994e+02, -1.60280410e+02,\n",
       "        5.70775772e+01,  1.04609417e+02, -7.92826313e+01,  3.69819779e+01,\n",
       "        3.61531351e+01, -5.58423716e+01,  1.59837487e+02,  3.85421882e+01,\n",
       "        5.17936506e+01,  1.81757865e+01,  7.62496095e+01, -7.64732316e+00,\n",
       "       -7.73114688e+00, -3.41307074e+00, -2.96926086e+01,  1.55885444e+02,\n",
       "       -4.52291012e+01,  1.71684998e+01, -7.12825411e+01, -7.51586737e+01,\n",
       "        3.26643224e+01, -1.64986723e+02, -6.08701601e+00,  1.46120318e+02,\n",
       "       -4.32471398e+01, -1.25318287e+02, -1.98678720e+02,  3.11087479e+01,\n",
       "        1.41431594e+02,  2.66688580e+02, -2.61347891e+02, -9.26720666e+01,\n",
       "        7.14087195e+01, -9.47026213e+01, -5.48427375e+01,  1.19750207e+02,\n",
       "       -1.68518613e+02, -1.21776321e+02,  4.39339173e+01,  9.22298192e+01,\n",
       "       -2.20610385e+02, -1.25737980e+02, -1.77226480e+02, -5.59404837e+01,\n",
       "        1.22571183e+02, -8.83350724e+01, -7.97885023e+00, -5.76799443e+00,\n",
       "       -4.88265079e+00,  7.57643693e+01,  3.97026712e+01,  8.75990507e+01,\n",
       "       -3.59816598e+01, -8.95753964e+01,  3.32262692e+01,  1.29481472e+01,\n",
       "        1.12043783e+02,  3.01950640e+00,  6.88386472e+01,  2.79095954e+01,\n",
       "       -1.48178239e+02,  1.33195395e+00,  1.60127311e+01, -2.76642085e+01,\n",
       "       -2.66924402e+01, -2.61032079e+02,  2.62127619e+02,  1.50126400e+02,\n",
       "        9.28217723e+00,  7.90165517e+01, -1.72718735e+01, -1.58393768e+02,\n",
       "        1.07866957e+02, -3.72876145e+01, -2.21073942e+02,  1.16028783e+02,\n",
       "       -3.44660473e+01, -9.18440836e+01,  1.65558780e+02,  3.47418098e+01,\n",
       "       -2.39997812e+01,  5.63195298e+01,  4.04301202e+01, -1.80221108e+02,\n",
       "        1.25448331e+02, -7.78445495e+01,  2.06721766e+02,  1.30414188e+02,\n",
       "       -5.42438634e+00, -1.58413601e+02, -2.07384112e+01,  1.29641679e+02,\n",
       "        3.16193192e+01,  5.21993205e+01, -9.60295901e+00, -4.77667248e+01,\n",
       "        1.33252102e+01, -7.35586445e+01,  2.31810399e+01,  1.36928369e+02,\n",
       "        3.42032235e+02,  2.11925383e+02,  2.31200405e+01, -4.25769226e+01,\n",
       "       -1.76254509e+02,  7.71245049e+00,  2.92686684e+02,  7.06826516e+01,\n",
       "       -2.77318399e+01,  1.50693583e+02, -1.60638434e+02,  1.35305377e+02,\n",
       "        1.66026794e+02, -5.20441964e+01,  6.10836525e+01,  9.19726279e+01,\n",
       "        8.95418060e+01,  2.73458828e+01,  1.68838073e+02, -1.55756102e+02,\n",
       "       -9.98300555e+01, -1.75207024e+02, -2.26344760e+01, -1.11871529e+02,\n",
       "       -1.88965242e+01, -6.34853664e+01, -7.98379826e+01,  6.19327501e+01,\n",
       "       -7.36159332e+01,  8.39756823e+01, -6.13912651e+01, -1.14298904e+02,\n",
       "       -8.25384814e+01,  1.80339994e+02, -4.65380733e+01,  2.14499731e+02,\n",
       "       -6.20480448e+01, -8.92402704e+01,  4.28423418e+01, -4.11697992e+00,\n",
       "        6.70162823e+01, -6.64094407e+01,  2.03932270e+02, -1.43438826e+02,\n",
       "       -1.02080021e+02, -1.19393480e+02,  1.93795216e+01,  4.88579948e+01,\n",
       "        1.44773952e+02,  4.25889121e+01,  8.74553368e+01,  1.68123146e+02,\n",
       "       -2.74812285e+02, -1.78708202e+02, -1.10877378e+02, -8.66382417e+01,\n",
       "        2.42049931e+01, -5.59863960e+01,  7.32269936e+01, -2.48170677e+01,\n",
       "       -5.74625404e+01, -3.36683107e+01,  6.06372870e+01,  8.59866938e+01,\n",
       "       -8.75682628e+01, -1.53241961e+02,  4.33804126e+01,  2.32740856e+02,\n",
       "       -5.37154779e+01,  1.15987610e+01, -6.57477335e+01,  8.15660501e+00,\n",
       "        4.22472223e+00,  3.49878954e+01,  1.11242311e+02,  1.42456737e+01,\n",
       "       -1.12281513e+02,  4.26965484e+01,  9.38249318e+01, -9.46676348e+01,\n",
       "       -1.80006721e+02,  1.64172634e+02,  1.03199386e+02,  5.70600533e+01,\n",
       "       -1.37780490e+01, -2.97674099e+01, -5.27325321e+01, -1.76656688e+02,\n",
       "       -6.93326483e+01, -3.24910921e+01, -1.75896239e+02, -3.27965207e+01,\n",
       "        2.92279342e+01, -1.26620489e+02,  1.29798862e+01, -5.56213889e+00,\n",
       "       -2.59465913e+02, -2.58593691e+02, -1.71050161e+02,  4.22094215e+01,\n",
       "        1.26087066e+02,  6.64510178e+01,  1.14490314e+02,  8.94647173e+01,\n",
       "        1.69796538e+01, -3.10559178e+02,  1.82604179e+02, -1.34393032e+02,\n",
       "       -4.85641901e+01, -8.96058583e+01, -9.27479923e+01,  1.31637012e+02,\n",
       "        1.57736819e+02, -4.50466624e+01, -1.46736250e+02,  1.08409338e+02,\n",
       "       -2.47773237e+01,  8.30091026e+01,  1.00632538e+02,  2.06900112e+01,\n",
       "       -5.55776198e+01, -3.25797473e+01,  2.45331321e+01,  6.84840379e+01,\n",
       "        2.25323103e+01, -1.32641397e+02, -2.00527647e+01, -1.56963227e+01,\n",
       "       -1.32039527e+02,  1.57446195e+02, -1.48423616e+01, -1.37296098e+02,\n",
       "        2.01401053e+02,  4.33571959e+01,  8.77095283e+01,  2.64494847e+01,\n",
       "        2.01633866e+02, -4.39088473e+01, -3.66881002e+01, -4.56763766e+01,\n",
       "        4.75597649e+01, -6.73691354e+01,  8.96410171e+01, -8.91484632e+01,\n",
       "       -1.01747931e+02, -2.85490086e+01, -9.57349375e+01, -2.84300418e+01,\n",
       "        5.49995918e+01, -3.85089315e+01, -7.83712250e+01, -1.83497284e+02,\n",
       "       -1.68344072e+02,  3.62467005e+01,  7.53245848e+01,  2.96417591e+02,\n",
       "        1.23809939e+02,  1.25592894e+02,  4.66944616e+01, -2.63621946e+01,\n",
       "        1.78141883e+02, -6.32476661e+01,  1.24415309e+02,  1.48039980e+02,\n",
       "       -3.79340798e+01, -2.07663384e+02, -1.04000744e+02,  2.70201557e-01,\n",
       "       -4.93520108e+01, -4.30305394e+01,  1.53481115e+02,  1.28600435e+02,\n",
       "        1.96882839e+01, -9.37507217e+01,  1.81746079e+02, -6.98939145e+01,\n",
       "        6.10605507e+01,  7.46566290e+01,  9.38607547e+01, -1.10076118e+02,\n",
       "        1.09140337e+02, -3.96945223e+01,  8.34322595e+01, -8.72157597e+01,\n",
       "       -2.07220413e+02,  1.53114807e+02, -9.81666076e+01,  6.07915795e+01,\n",
       "        1.21072001e+02,  2.54604369e+01, -1.80662068e+02, -3.87574887e+01,\n",
       "       -5.28406724e+01, -1.22052621e+02,  6.95927987e+00, -9.30408560e+01,\n",
       "       -4.43723441e+01, -1.69457199e+02, -2.23413158e+02,  3.72547869e-01,\n",
       "       -2.10384957e+02,  1.80017658e+02, -1.48096522e+01,  1.38263081e+01,\n",
       "        2.76119080e+01,  2.36810424e+02, -3.17749762e+01,  1.30217049e+02,\n",
       "        5.26515778e+01,  5.60133012e+00, -9.08880162e+01, -1.45034988e+01,\n",
       "        2.17842437e+02, -1.95867795e+01, -1.42309079e+02, -5.53225784e+01,\n",
       "       -9.84512412e+01,  3.75443234e+00, -2.04437709e+01, -6.79298852e+01,\n",
       "       -2.18508880e+01, -1.77356905e+02, -1.27168122e+02,  4.02328371e+01,\n",
       "       -4.25641397e+01, -1.61696809e+02,  8.35215336e+01, -5.60263813e+00,\n",
       "        1.28329036e+02, -5.16070590e+01, -1.93800905e+00,  1.69065639e+02,\n",
       "        1.66643903e+02,  4.19624199e+01, -3.25049486e+01,  5.42821527e+01,\n",
       "        1.06233937e+02, -4.20140929e+01, -7.33164524e+01, -8.61860747e+01,\n",
       "       -1.91631431e+02,  1.21060599e+02,  6.02007484e+01,  5.26349004e+01])"
      ]
     },
     "execution_count": 10,
     "metadata": {},
     "output_type": "execute_result"
    }
   ],
   "source": [
    "hypothesis(X_test,final_theta)"
   ]
  },
  {
   "cell_type": "code",
   "execution_count": 11,
   "metadata": {},
   "outputs": [],
   "source": [
    "df = pd.DataFrame(hypothesis(X_test,final_theta).reshape((-1,1)),columns=['target'])"
   ]
  },
  {
   "cell_type": "code",
   "execution_count": 12,
   "metadata": {},
   "outputs": [],
   "source": [
    "df.to_csv(\"./Dataset/RegressionSubmisison/submission.csv\")"
   ]
  },
  {
   "cell_type": "markdown",
   "metadata": {},
   "source": [
    "## Using Gradient Boosting"
   ]
  },
  {
   "cell_type": "code",
   "execution_count": 13,
   "metadata": {},
   "outputs": [],
   "source": [
    "from sklearn.ensemble import GradientBoostingRegressor"
   ]
  },
  {
   "cell_type": "code",
   "execution_count": 14,
   "metadata": {},
   "outputs": [],
   "source": [
    "gb_reg = GradientBoostingRegressor(max_features=5)"
   ]
  },
  {
   "cell_type": "code",
   "execution_count": 15,
   "metadata": {},
   "outputs": [
    {
     "name": "stderr",
     "output_type": "stream",
     "text": [
      "/home/hacker/.local/lib/python3.6/site-packages/sklearn/utils/validation.py:761: DataConversionWarning: A column-vector y was passed when a 1d array was expected. Please change the shape of y to (n_samples, ), for example using ravel().\n",
      "  y = column_or_1d(y, warn=True)\n"
     ]
    },
    {
     "data": {
      "text/plain": [
       "GradientBoostingRegressor(alpha=0.9, criterion='friedman_mse', init=None,\n",
       "             learning_rate=0.1, loss='ls', max_depth=3, max_features=5,\n",
       "             max_leaf_nodes=None, min_impurity_decrease=0.0,\n",
       "             min_impurity_split=None, min_samples_leaf=1,\n",
       "             min_samples_split=2, min_weight_fraction_leaf=0.0,\n",
       "             n_estimators=100, n_iter_no_change=None, presort='auto',\n",
       "             random_state=None, subsample=1.0, tol=0.0001,\n",
       "             validation_fraction=0.1, verbose=0, warm_start=False)"
      ]
     },
     "execution_count": 15,
     "metadata": {},
     "output_type": "execute_result"
    }
   ],
   "source": [
    "gb_reg.fit(X_train,Y_train)"
   ]
  },
  {
   "cell_type": "code",
   "execution_count": 16,
   "metadata": {},
   "outputs": [],
   "source": [
    "hyp2 = gb_reg.predict(X_test).reshape(-1,1)"
   ]
  },
  {
   "cell_type": "code",
   "execution_count": 17,
   "metadata": {},
   "outputs": [],
   "source": [
    "df = pd.DataFrame(hyp2,columns=['target'])\n",
    "df.to_csv(\"./Dataset/RegressionSubmisison/submission_gb.csv\")"
   ]
  },
  {
   "cell_type": "markdown",
   "metadata": {},
   "source": [
    "## Using Decision Tree"
   ]
  },
  {
   "cell_type": "code",
   "execution_count": 18,
   "metadata": {},
   "outputs": [],
   "source": [
    "from sklearn.tree import DecisionTreeRegressor"
   ]
  },
  {
   "cell_type": "code",
   "execution_count": 19,
   "metadata": {},
   "outputs": [],
   "source": [
    "dt_reg = DecisionTreeRegressor()"
   ]
  },
  {
   "cell_type": "code",
   "execution_count": 20,
   "metadata": {},
   "outputs": [
    {
     "data": {
      "text/plain": [
       "DecisionTreeRegressor(criterion='mse', max_depth=None, max_features=None,\n",
       "           max_leaf_nodes=None, min_impurity_decrease=0.0,\n",
       "           min_impurity_split=None, min_samples_leaf=1,\n",
       "           min_samples_split=2, min_weight_fraction_leaf=0.0,\n",
       "           presort=False, random_state=None, splitter='best')"
      ]
     },
     "execution_count": 20,
     "metadata": {},
     "output_type": "execute_result"
    }
   ],
   "source": [
    "dt_reg.fit(X_train,Y_train)"
   ]
  },
  {
   "cell_type": "code",
   "execution_count": 21,
   "metadata": {},
   "outputs": [],
   "source": [
    "hyp3 = dt_reg.predict(X_test).reshape(-1,1)"
   ]
  },
  {
   "cell_type": "code",
   "execution_count": 22,
   "metadata": {},
   "outputs": [],
   "source": [
    "df = pd.DataFrame(hyp3,columns=['target'])\n",
    "df.to_csv(\"./Dataset/RegressionSubmisison/submission_dt.csv\")"
   ]
  },
  {
   "cell_type": "markdown",
   "metadata": {},
   "source": [
    "## Using Random Forest Regressor"
   ]
  },
  {
   "cell_type": "code",
   "execution_count": 23,
   "metadata": {},
   "outputs": [],
   "source": [
    "from sklearn.ensemble import RandomForestRegressor"
   ]
  },
  {
   "cell_type": "code",
   "execution_count": 24,
   "metadata": {},
   "outputs": [],
   "source": [
    "rf_reg = RandomForestRegressor()"
   ]
  },
  {
   "cell_type": "code",
   "execution_count": 25,
   "metadata": {},
   "outputs": [
    {
     "name": "stderr",
     "output_type": "stream",
     "text": [
      "/home/hacker/.local/lib/python3.6/site-packages/sklearn/ensemble/forest.py:246: FutureWarning: The default value of n_estimators will change from 10 in version 0.20 to 100 in 0.22.\n",
      "  \"10 in version 0.20 to 100 in 0.22.\", FutureWarning)\n",
      "/home/hacker/.local/lib/python3.6/site-packages/ipykernel_launcher.py:1: DataConversionWarning: A column-vector y was passed when a 1d array was expected. Please change the shape of y to (n_samples,), for example using ravel().\n",
      "  \"\"\"Entry point for launching an IPython kernel.\n"
     ]
    },
    {
     "data": {
      "text/plain": [
       "RandomForestRegressor(bootstrap=True, criterion='mse', max_depth=None,\n",
       "           max_features='auto', max_leaf_nodes=None,\n",
       "           min_impurity_decrease=0.0, min_impurity_split=None,\n",
       "           min_samples_leaf=1, min_samples_split=2,\n",
       "           min_weight_fraction_leaf=0.0, n_estimators=10, n_jobs=None,\n",
       "           oob_score=False, random_state=None, verbose=0, warm_start=False)"
      ]
     },
     "execution_count": 25,
     "metadata": {},
     "output_type": "execute_result"
    }
   ],
   "source": [
    "rf_reg.fit(X_train,Y_train)"
   ]
  },
  {
   "cell_type": "code",
   "execution_count": 26,
   "metadata": {},
   "outputs": [],
   "source": [
    "hyp4 = rf_reg.predict(X_test).reshape(-1,1)"
   ]
  },
  {
   "cell_type": "code",
   "execution_count": 27,
   "metadata": {},
   "outputs": [],
   "source": [
    "df = pd.DataFrame(hyp4,columns=['target'])\n",
    "df.to_csv(\"./Dataset/RegressionSubmisison/submission_rf.csv\")"
   ]
  },
  {
   "cell_type": "markdown",
   "metadata": {},
   "source": [
    "## Using Ada Boosting"
   ]
  },
  {
   "cell_type": "code",
   "execution_count": 28,
   "metadata": {},
   "outputs": [],
   "source": [
    "from sklearn.ensemble import AdaBoostRegressor"
   ]
  },
  {
   "cell_type": "code",
   "execution_count": 29,
   "metadata": {},
   "outputs": [],
   "source": [
    "ada_reg = AdaBoostRegressor()"
   ]
  },
  {
   "cell_type": "code",
   "execution_count": 30,
   "metadata": {},
   "outputs": [
    {
     "name": "stderr",
     "output_type": "stream",
     "text": [
      "/home/hacker/.local/lib/python3.6/site-packages/sklearn/utils/validation.py:761: DataConversionWarning: A column-vector y was passed when a 1d array was expected. Please change the shape of y to (n_samples, ), for example using ravel().\n",
      "  y = column_or_1d(y, warn=True)\n"
     ]
    },
    {
     "data": {
      "text/plain": [
       "AdaBoostRegressor(base_estimator=None, learning_rate=1.0, loss='linear',\n",
       "         n_estimators=50, random_state=None)"
      ]
     },
     "execution_count": 30,
     "metadata": {},
     "output_type": "execute_result"
    }
   ],
   "source": [
    "ada_reg.fit(X_train,Y_train)"
   ]
  },
  {
   "cell_type": "code",
   "execution_count": 31,
   "metadata": {},
   "outputs": [],
   "source": [
    "hyp5 = ada_reg.predict(X_test).reshape(-1,1)"
   ]
  },
  {
   "cell_type": "code",
   "execution_count": 32,
   "metadata": {},
   "outputs": [],
   "source": [
    "df = pd.DataFrame(hyp5,columns=['target'])\n",
    "df.to_csv(\"./Dataset/RegressionSubmisison/submission_ada.csv\")"
   ]
  },
  {
   "cell_type": "code",
   "execution_count": null,
   "metadata": {},
   "outputs": [],
   "source": []
  }
 ],
 "metadata": {
  "kernelspec": {
   "display_name": "Python 3",
   "language": "python",
   "name": "python3"
  },
  "language_info": {
   "codemirror_mode": {
    "name": "ipython",
    "version": 3
   },
   "file_extension": ".py",
   "mimetype": "text/x-python",
   "name": "python",
   "nbconvert_exporter": "python",
   "pygments_lexer": "ipython3",
   "version": "3.6.8"
  }
 },
 "nbformat": 4,
 "nbformat_minor": 2
}
